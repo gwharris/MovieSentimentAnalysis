{
 "metadata": {
  "language_info": {
   "codemirror_mode": {
    "name": "ipython",
    "version": 3
   },
   "file_extension": ".py",
   "mimetype": "text/x-python",
   "name": "python",
   "nbconvert_exporter": "python",
   "pygments_lexer": "ipython3",
   "version": "3.7.7"
  },
  "orig_nbformat": 2,
  "kernelspec": {
   "name": "python377jvsc74a57bd0e534e48711db4d1e1c48977d0d14ff85b1f16d41bcc4fdfd88268a329b3c9d66",
   "display_name": "Python 3.7.7 64-bit"
  },
  "metadata": {
   "interpreter": {
    "hash": "e534e48711db4d1e1c48977d0d14ff85b1f16d41bcc4fdfd88268a329b3c9d66"
   }
  }
 },
 "nbformat": 4,
 "nbformat_minor": 2,
 "cells": [
  {
   "cell_type": "code",
   "execution_count": 29,
   "metadata": {},
   "outputs": [],
   "source": [
    "classification_files = [\"ss/ss_classification.csv\",\"lc/lc_classification.csv\",\"np/no_punc_classification.csv\",\"adj/adj_classification.csv\",\"lem/lem_classification.csv\"]\n",
    "accuracy_filename = [\"ss_acc.csv\",\"lc_acc.csv\",\"no_punc_acc.csv\",\"adj_acc.csv\",\"lem_acc.csv\"]\n",
    "file_text = [\"text\",\"lower\",\"no_punc\",\"adjective\",\"lemmatized\"]\n",
    "freq = [{},{},{},{},{}]\n"
   ]
  },
  {
   "cell_type": "code",
   "execution_count": 30,
   "metadata": {},
   "outputs": [],
   "source": [
    "import pandas as pd"
   ]
  },
  {
   "cell_type": "code",
   "execution_count": 31,
   "metadata": {},
   "outputs": [],
   "source": [
    "for f in range (0,5):\n",
    "    freq[f] = {}"
   ]
  },
  {
   "cell_type": "code",
   "execution_count": 32,
   "metadata": {},
   "outputs": [],
   "source": [
    "id = \"5694_9.txt\"\n",
    "##change this"
   ]
  },
  {
   "cell_type": "code",
   "execution_count": 33,
   "metadata": {
    "tags": []
   },
   "outputs": [],
   "source": [
    "key = pd.read_csv(\"../dataset/cleaned_test_tokens.csv\")\n",
    "key.set_index(key.id,inplace = True)\n",
    "for f in range (0,5):\n",
    "    review = key.loc[id,file_text[f]]\n",
    "    read = review.split()\n",
    "    for r in read:\n",
    "            if r in freq[f]:\n",
    "                freq[f][r] +=1\n",
    "            else:\n",
    "                freq[f][r] = 1\n",
    "            \n",
    "    "
   ]
  },
  {
   "cell_type": "code",
   "execution_count": 34,
   "metadata": {},
   "outputs": [],
   "source": [
    "for i in range(0,5):\n",
    "    freq[i]=dict(sorted(freq[i].items(), key=lambda item: item[1], reverse=True))"
   ]
  },
  {
   "cell_type": "code",
   "execution_count": 36,
   "metadata": {},
   "outputs": [
    {
     "output_type": "stream",
     "name": "stdout",
     "text": [
      "Correct Sentiment: 1\ntext\t\tProb 0: 0.4629060607577757\tProb 1: 0.5370939392422243\n\t. 13\n\ta 11\n\tthe 10\n\tand 9\n\tin 7\n\tto 6\n\tthis 6\n\tis 6\n\tmovie 5\n\twas 5\n\tof 5\n\tseen 4\n\tthat 4\nlower\t\tProb 0: 0.4992678082441534\tProb 1: 0.5007321917558466\n\t. 13\n\tthe 11\n\ta 11\n\tthis 9\n\tand 9\n\tin 7\n\tto 6\n\tit 6\n\tis 6\n\tmovie 5\n\twas 5\n\tof 5\n\tseen 4\n\twhen 4\n\tthat 4\nno_punc\t\tProb 0: 0.5028093730143255\tProb 1: 0.4971906269856744\n\tthe 11\n\ta 11\n\tthis 9\n\tand 9\n\tit 7\n\tin 7\n\tto 6\n\tis 6\n\tmovie 5\n\twas 5\n\tof 5\n\tseen 4\n\twhen 4\n\tthat 4\nadjective\t\tProb 0: 0.3761412593176017\tProb 1: 0.6238587406823983\n\tcorny 1\n\tlow 1\n\tdeeper 1\n\tcomplete 1\n\tspectacular 1\n\tsecond 1\n\tsafe 1\n\tready 1\n\tcrappy 1\n\tvisual 1\n\tfirst 1\n\treal 1\n\tserious 1\n\tcreepiest 1\n\tnail 1\n\tintense 1\n\thungry 1\n\tlittle 1\n\tfew 1\n\tbaffled 1\n\tappealing 1\n\tother 1\n\tfavorite 1\n\tanimal 1\nlemmatized\t\tProb 0: 0.4574308893415749\tProb 1: 0.5425691106584251\n\tthe 11\n\ta 11\n\tthis 9\n\tand 9\n\tit 7\n\tin 7\n\tto 6\n\tis 6\n\tmovie 5\n\twa 5\n\tof 5\n\tseen 4\n\twhen 4\n\tthat 4\n"
     ]
    }
   ],
   "source": [
    "answer = key.loc[id,\"rating\"]\n",
    "print(\"Correct Sentiment: \"+str(answer))\n",
    "for f in range (0,5):\n",
    "    cl = pd.read_csv(\"../\"+classification_files[f])\n",
    "    cl.set_index(cl.id,inplace = True)\n",
    "    prob0 = str(cl.loc[id, \"prob_0\"])\n",
    "    prob1 = str(cl.loc[id, \"prob_1\"])\n",
    "    print(file_text[f]+\"\\t\\tProb 0: \"+prob0+\"\\tProb 1: \"+prob1)\n",
    "    for word in freq[f]:\n",
    "        if (f == 3):\n",
    "            print(\"\\t\"+word+\" \"+str(freq[f][word]))\n",
    "        elif freq[f][word] > 3:\n",
    "            print(\"\\t\"+word+\" \"+str(freq[f][word]))\n"
   ]
  },
  {
   "cell_type": "code",
   "execution_count": null,
   "metadata": {},
   "outputs": [],
   "source": []
  }
 ]
}