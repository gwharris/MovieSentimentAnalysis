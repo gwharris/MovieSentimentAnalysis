{
 "metadata": {
  "language_info": {
   "codemirror_mode": {
    "name": "ipython",
    "version": 3
   },
   "file_extension": ".py",
   "mimetype": "text/x-python",
   "name": "python",
   "nbconvert_exporter": "python",
   "pygments_lexer": "ipython3",
   "version": "3.7.7"
  },
  "orig_nbformat": 2,
  "kernelspec": {
   "name": "python377jvsc74a57bd0e534e48711db4d1e1c48977d0d14ff85b1f16d41bcc4fdfd88268a329b3c9d66",
   "display_name": "Python 3.7.7 64-bit"
  },
  "metadata": {
   "interpreter": {
    "hash": "e534e48711db4d1e1c48977d0d14ff85b1f16d41bcc4fdfd88268a329b3c9d66"
   }
  }
 },
 "nbformat": 4,
 "nbformat_minor": 2,
 "cells": [
  {
   "cell_type": "code",
   "execution_count": 142,
   "metadata": {},
   "outputs": [],
   "source": [
    "import pandas as pd\n",
    "classification_files = [\"ss/ss_classification.csv\",\"lc/lc_classification.csv\",\"np/no_punc_classification.csv\",\"adj/adj_classification.csv\",\"lem/lem_classification.csv\"]\n",
    "filename = [\"90ss.csv\",\"90lc.csv\",\"90np.csv\",\"90adj.csv\",\"90lem.csv\"]\n",
    "fi = 0\n",
    "accuracy_filename = [\"ss_acc.csv\",\"lc_acc.csv\",\"no_punc_acc.csv\",\"adj_acc.csv\",\"lem_acc.csv\"]\n",
    "file_text = [\"text\",\"lower\",\"no_punc\",\"adjective\",\"lemmatized\"]\n",
    "freq = [{},{},{},{},{}]\n"
   ]
  },
  {
   "cell_type": "code",
   "execution_count": 148,
   "metadata": {
    "tags": []
   },
   "outputs": [
    {
     "output_type": "stream",
     "name": "stdout",
     "text": [
      "0\n1\n2\n3\n4\n"
     ]
    }
   ],
   "source": [
    "for f in range (0,5):\n",
    "    print(f)\n",
    "    freq[f] = {}\n",
    "    ##Count which words repear the most\n",
    "    read_file = \"90/\"+filename[f]\n",
    "    read = pd.read_csv(read_file)\n",
    "    read_words = read.Token\n",
    "    for rev in read.Token:\n",
    "        sp = rev.split()\n",
    "        for r in sp:\n",
    "            if r in freq[f]:\n",
    "                freq[f][r] +=1\n",
    "            else:\n",
    "                freq[f][r] = 1\n",
    "            "
   ]
  },
  {
   "cell_type": "code",
   "execution_count": 149,
   "metadata": {},
   "outputs": [],
   "source": [
    "for i in range(0,5):\n",
    "    freq[i]=dict(sorted(freq[i].items(), key=lambda item: item[1], reverse=True))"
   ]
  },
  {
   "cell_type": "code",
   "execution_count": 150,
   "metadata": {},
   "outputs": [],
   "source": [
    "list_freq = [\"\",\"\",\"\",\"\",\"\"]"
   ]
  },
  {
   "cell_type": "code",
   "execution_count": 151,
   "metadata": {},
   "outputs": [],
   "source": [
    "for f in range (0,5):\n",
    "    count = 0\n",
    "    list_freq[f] = []\n",
    "    for key in freq[f]:\n",
    "        if (count < 50):\n",
    "            list_freq[f].append(key+\" \"+str(freq[f][key]))\n",
    "            count +=1\n",
    "        else:\n",
    "            break\n",
    "       \n",
    "      "
   ]
  },
  {
   "cell_type": "code",
   "execution_count": 152,
   "metadata": {},
   "outputs": [],
   "source": [
    "import csv\n",
    "from itertools import zip_longest\n",
    "\n",
    "with open(\"word_freq.csv\", 'w') as csvfile: \n",
    "        csvwriter = csv.writer(csvfile)\n",
    "        fields = [\"text\",\"lower\",\"no_punc\",\"adjective\",\"lemmatized\"]\n",
    "        csvwriter.writerow(fields)\n",
    "        row = zip_longest(list_freq[0],list_freq[1],list_freq[2],list_freq[3],list_freq[4])\n",
    "        csvwriter.writerows((row))\n"
   ]
  },
  {
   "cell_type": "code",
   "execution_count": null,
   "metadata": {},
   "outputs": [],
   "source": []
  }
 ]
}