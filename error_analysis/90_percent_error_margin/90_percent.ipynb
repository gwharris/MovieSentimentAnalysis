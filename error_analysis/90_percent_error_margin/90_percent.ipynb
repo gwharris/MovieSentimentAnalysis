{
 "metadata": {
  "language_info": {
   "codemirror_mode": {
    "name": "ipython",
    "version": 3
   },
   "file_extension": ".py",
   "mimetype": "text/x-python",
   "name": "python",
   "nbconvert_exporter": "python",
   "pygments_lexer": "ipython3",
   "version": "3.7.7"
  },
  "orig_nbformat": 2,
  "kernelspec": {
   "name": "python377jvsc74a57bd0e534e48711db4d1e1c48977d0d14ff85b1f16d41bcc4fdfd88268a329b3c9d66",
   "display_name": "Python 3.7.7 64-bit"
  },
  "metadata": {
   "interpreter": {
    "hash": "e534e48711db4d1e1c48977d0d14ff85b1f16d41bcc4fdfd88268a329b3c9d66"
   }
  }
 },
 "nbformat": 4,
 "nbformat_minor": 2,
 "cells": [
  {
   "cell_type": "code",
   "execution_count": 11,
   "metadata": {},
   "outputs": [],
   "source": [
    "classification_files = [\"ss/ss_classification.csv\",\"lc/lc_classification.csv\",\"np/no_punc_classification.csv\",\"adj/adj_classification.csv\",\"lem/lem_classification.csv\"]\n",
    "filename = [\"90ss.csv\",\"90lc.csv\",\"90np.csv\",\"90adj.csv\",\"90lem.csv\"]\n",
    "fi = 0\n",
    "accuracy_filename = [\"ss_acc.csv\",\"lc_acc.csv\",\"no_punc_acc.csv\",\"adj_acc.csv\",\"lem_acc.csv\"]\n",
    "id_names = [\"\",\"\",\"\",\"\",\"\"]\n",
    "text_names = [\"\",\"\",\"\",\"\",\"\"]\n",
    "file_text = [\"text\",\"lower\",\"no_punc\",\"adjective\",\"lemmatized\"]\n",
    "rev = [\"\",\"\",\"\",\"\",\"\"]\n",
    "key_rating = [\"\",\"\",\"\",\"\",\"\"]\n",
    "inc_rating = [\"\",\"\",\"\",\"\",\"\"]\n",
    "prob_0 = [\"\",\"\",\"\",\"\",\"\"]\n",
    "prob_1 = [\"\",\"\",\"\",\"\",\"\"]"
   ]
  },
  {
   "cell_type": "code",
   "execution_count": 12,
   "metadata": {},
   "outputs": [],
   "source": [
    "import pandas as pd"
   ]
  },
  {
   "cell_type": "code",
   "execution_count": 13,
   "metadata": {},
   "outputs": [
    {
     "output_type": "stream",
     "name": "stdout",
     "text": [
      "0\n",
      "1\n",
      "2\n",
      "3\n",
      "4\n"
     ]
    }
   ],
   "source": [
    "for f in range (0,5):\n",
    "    print(f)\n",
    "    original = pd.read_csv(\"dataset/cleaned_test_tokens.csv\")\n",
    "    key = pd.read_csv(classification_files[f])\n",
    "    acc = \"accuracy/\"+accuracy_filename[f]\n",
    "    incorrect = pd.read_csv(acc)\n",
    "    key.set_index(key.id,inplace = True)\n",
    "    incorrect.set_index(incorrect.id,inplace = True) \n",
    "    original.set_index(original.id,inplace = True) \n",
    "\n",
    "    id_names[f] = []\n",
    "    text_names[f] = []\n",
    "    rev[f] = []\n",
    "    key_rating[f]=[]\n",
    "    inc_rating[f]=[]\n",
    "    prob_0 [f] = []\n",
    "    prob_1 [f] = []\n",
    "\n",
    "    for i in incorrect.id:\n",
    "        if (key.loc[i,\"predicted_rating\"] == 1):\n",
    "            if (key.loc[i,\"prob_0\"]<.10):\n",
    "                id_names[f].append(i)\n",
    "                text_names[f].append(original.loc[i,file_text[f]])\n",
    "                rev[f].append(original.loc[i,\"text\"])\n",
    "                key_rating[f].append(0)\n",
    "                inc_rating[f].append(1)\n",
    "                prob_0[f].append(key.loc[i,\"prob_0\"])\n",
    "                prob_1[f].append(key.loc[i,\"prob_1\"])\n",
    "\n",
    "        else:\n",
    "            if (key.loc[i,\"prob_1\"]<.10):\n",
    "                id_names[f].append(i)\n",
    "                text_names[f].append(original.loc[i,file_text[f]])\n",
    "                rev[f].append(original.loc[i,\"text\"])\n",
    "                key_rating[f].append(1)\n",
    "                inc_rating[f].append(0)\n",
    "                prob_0[f].append(key.loc[i,\"prob_0\"])\n",
    "                prob_1[f].append(key.loc[i,\"prob_1\"])"
   ]
  },
  {
   "cell_type": "code",
   "execution_count": 14,
   "metadata": {},
   "outputs": [],
   "source": [
    "import csv\n",
    "for fi in range(0,5):\n",
    "        with open(filename[fi], 'w') as csvfile: \n",
    "                csvwriter = csv.writer(csvfile)\n",
    "                ##fields = [\"ss_id\",\"ss_token\",\"ss_rev\",\"adj_id\",\"adj_token\",\"adj_rev\",\"lc_id\",\"lc_token\",\"lc_rev\",\"lem_id\",\"lem_token\",\"lem_rev\",\"no_punc_id\",\"no_punc_token\",\"no_punc_rev\"]\n",
    "                #csvwriter.writerow(fields)\n",
    "        # csvwriter.writerows(itertools.zip_longest(id_names[0],text_names[0],rev[0],id_names[1],text_names[1],rev[1],id_names[2],text_names[2],rev[2],id_names[3],text_names[3],rev[3],id_names[4],text_names[4],rev[4]))\n",
    "                fields = [\"id\",\"Token\",\"Review\",\"Answer\",\"Predicted\",\"prob_0\",\"prob1\"]\n",
    "                csvwriter.writerow(fields)\n",
    "                csvwriter.writerows(zip(id_names[fi],text_names[fi],rev[fi],key_rating[fi],inc_rating[fi],prob_0[fi],prob_1[fi]))\n",
    "\n",
    "        \n"
   ]
  },
  {
   "cell_type": "code",
   "execution_count": null,
   "metadata": {},
   "outputs": [],
   "source": []
  }
 ]
}