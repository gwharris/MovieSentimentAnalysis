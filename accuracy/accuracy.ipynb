{
 "metadata": {
  "language_info": {
   "codemirror_mode": {
    "name": "ipython",
    "version": 3
   },
   "file_extension": ".py",
   "mimetype": "text/x-python",
   "name": "python",
   "nbconvert_exporter": "python",
   "pygments_lexer": "ipython3",
   "version": "3.7.7"
  },
  "orig_nbformat": 2,
  "kernelspec": {
   "name": "python377jvsc74a57bd0e534e48711db4d1e1c48977d0d14ff85b1f16d41bcc4fdfd88268a329b3c9d66",
   "display_name": "Python 3.7.7 64-bit"
  },
  "metadata": {
   "interpreter": {
    "hash": "e534e48711db4d1e1c48977d0d14ff85b1f16d41bcc4fdfd88268a329b3c9d66"
   }
  }
 },
 "nbformat": 4,
 "nbformat_minor": 2,
 "cells": [
  {
   "cell_type": "code",
   "execution_count": 53,
   "metadata": {},
   "outputs": [],
   "source": [
    "classification_files = [\"ss/ss_classification.csv\",\"lc/lc_classification.csv\",\"np/no_punc_classification.csv\",\"adj/adj_classification.csv\",\"lem/lem_classification.csv\"]\n",
    "accuracy_filename = [\"ss_acc.csv\",\"lc_acc.csv\",\"no_punc_acc.csv\",\"adj_acc.csv\",\"lem_acc.csv\"]\n",
    "file_text = [\"text\",\"lower\",\"no_punc\",\"adjective\",\"lemmatized\"]\n",
    "id_names = [\"\",\"\",\"\",\"\",\"\"]\n",
    "review = [\"\",\"\",\"\",\"\",\"\"]\n",
    "tokens = [\"\",\"\",\"\",\"\",\"\"]\n",
    "rating = [\"\",\"\",\"\",\"\",\"\"]\n",
    "predicted = [\"\",\"\",\"\",\"\",\"\"]\n",
    "accuracy_score = []\n"
   ]
  },
  {
   "cell_type": "code",
   "execution_count": 54,
   "metadata": {},
   "outputs": [],
   "source": [
    "import pandas as pd"
   ]
  },
  {
   "cell_type": "code",
   "execution_count": 80,
   "metadata": {
    "tags": []
   },
   "outputs": [
    {
     "output_type": "stream",
     "name": "stdout",
     "text": [
      "0\n",
      "1\n",
      "2\n",
      "3\n",
      "4\n"
     ]
    }
   ],
   "source": [
    "for f in range (0,5):\n",
    "    print(f)\n",
    "    count_incorrect = 0\n",
    "    key = pd.read_csv(\"dataset/cleaned_test_tokens.csv\")\n",
    "    classified = pd.read_csv(classification_files[f])\n",
    "   \n",
    "    classified.set_index(classified.id,inplace = True)\n",
    "    key.set_index(key.id,inplace = True) \n",
    "\n",
    "\n",
    "    id_names[f] = []\n",
    "    review[f] = []\n",
    "    tokens[f] = []\n",
    "    rating[f] = []\n",
    "    predicted[f] = []\n",
    "    for id in key.id:\n",
    "        if (classified.loc[id,\"predicted_rating\"] != key.loc[id,\"rating\"]):\n",
    "            id_names[f].append(id)\n",
    "            review[f].append(key.loc[id,\"text\"])\n",
    "            tokens[f].append(key.loc[id,file_text[f]])\n",
    "            rating[f].append(key.loc[id,\"rating\"])\n",
    "            predicted[f].append(classified.loc[id,\"predicted_rating\"])\n",
    "            count_incorrect = count_incorrect + 1\n",
    "    \n",
    "    accuracy_score.append(count_incorrect)\n",
    "              "
   ]
  },
  {
   "cell_type": "code",
   "execution_count": 81,
   "metadata": {},
   "outputs": [],
   "source": [
    "import csv\n",
    "\n",
    "with open(accuracy_filename[0], 'w') as csvfile: \n",
    "        csvwriter = csv.writer(csvfile)\n",
    "        fields = [\"id\",\"Review\",\"Token\",\"Key\",\"Predicted\"]\n",
    "        csvwriter.writerow(fields)\n",
    "        csvwriter.writerows(zip(id_names[0],review[0],tokens[0],rating[0],predicted[0]))\n",
    "\n",
    "\n"
   ]
  },
  {
   "cell_type": "code",
   "execution_count": 82,
   "metadata": {},
   "outputs": [],
   "source": [
    "import csv\n",
    "for fi in range(0,5):\n",
    "        with open(accuracy_filename[fi], 'w') as csvfile: \n",
    "                csvwriter = csv.writer(csvfile)\n",
    "                fields = [\"id\",\"Review\",\"Token\",\"Key\",\"Predicted\"]\n",
    "                csvwriter.writerow(fields)\n",
    "                csvwriter.writerows(zip(id_names[fi],review[fi],tokens[fi],rating[fi],predicted[fi]))\n",
    "\n",
    "\n"
   ]
  },
  {
   "cell_type": "code",
   "execution_count": 84,
   "metadata": {},
   "outputs": [
    {
     "output_type": "stream",
     "name": "stdout",
     "text": [
      "Tokenization:  ss_acc.csv\nNumber of incorrect output:  2956\nAccuracy: 88.176 %\n\nTokenization:  lc_acc.csv\nNumber of incorrect output:  3046\nAccuracy: 87.816 %\n\nTokenization:  no_punc_acc.csv\nNumber of incorrect output:  3026\nAccuracy: 87.896 %\n\nTokenization:  adj_acc.csv\nNumber of incorrect output:  4300\nAccuracy: 82.8 %\n\nTokenization:  lem_acc.csv\nNumber of incorrect output:  3030\nAccuracy: 87.88 %\n\n"
     ]
    }
   ],
   "source": [
    "for f in range (0,5):\n",
    "    print(\"Tokenization: \",accuracy_filename[f])\n",
    "    print(\"Number of incorrect output: \", accuracy_score[f])\n",
    "    print(\"Accuracy: \"+ str(((25000 - accuracy_score[f])/25000)*100) + \" %\\n\")"
   ]
  }
 ]
}