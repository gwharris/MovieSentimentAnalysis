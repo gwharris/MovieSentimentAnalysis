{
 "cells": [
  {
   "cell_type": "code",
   "execution_count": 1,
   "metadata": {},
   "outputs": [],
   "source": [
    "import pandas as pd\n",
    "train = pd.read_csv(\"dataset/train_tokens.csv\")\n",
    "train_token = train.no_punc\n",
    "##This part is altered when the tokens change"
   ]
  },
  {
   "cell_type": "code",
   "execution_count": 2,
   "metadata": {},
   "outputs": [],
   "source": [
    "from sklearn.feature_extraction.text import CountVectorizer\n",
    "X_train_counts = CountVectorizer(lowercase = False).fit_transform(train_token)\n",
    "##lowercase = False keeps the original form of the tokens, do not change"
   ]
  },
  {
   "cell_type": "code",
   "execution_count": 3,
   "metadata": {},
   "outputs": [],
   "source": [
    "from sklearn.feature_extraction.text import TfidfTransformer\n",
    "tfidf_transformer = TfidfTransformer()\n",
    "X_train_tfidf = tfidf_transformer.fit_transform(X_train_counts)\n",
    "##Give weight values to the tokens"
   ]
  },
  {
   "cell_type": "code",
   "execution_count": 4,
   "metadata": {},
   "outputs": [],
   "source": [
    "X = X_train_tfidf.toarray()\n",
    "y = train.rating\n",
    "##Converts it to a readable form for train_test_split"
   ]
  },
  {
   "cell_type": "code",
   "execution_count": 5,
   "metadata": {},
   "outputs": [],
   "source": [
    "from sklearn.model_selection import train_test_split\n",
    "X_train, X_test, y_train, y_test  = train_test_split(X, y, train_size=0.80, random_state=123456)\n",
    "##Random state keeps the same split everytime"
   ]
  },
  {
   "cell_type": "code",
   "execution_count": 6,
   "metadata": {},
   "outputs": [],
   "source": [
    "train_acc =[]\n",
    "test_acc =[]\n",
    "train_loss =[]\n",
    "test_loss =[]\n",
    "values = [i for i in range(1, 21)]"
   ]
  },
  {
   "cell_type": "code",
   "execution_count": null,
   "metadata": {},
   "outputs": [
    {
     "name": "stderr",
     "output_type": "stream",
     "text": [
      "/usr/local/lib/python3.9/site-packages/sklearn/linear_model/_logistic.py:763: ConvergenceWarning: lbfgs failed to converge (status=1):\n",
      "STOP: TOTAL NO. of ITERATIONS REACHED LIMIT.\n",
      "\n",
      "Increase the number of iterations (max_iter) or scale the data as shown in:\n",
      "    https://scikit-learn.org/stable/modules/preprocessing.html\n",
      "Please also refer to the documentation for alternative solver options:\n",
      "    https://scikit-learn.org/stable/modules/linear_model.html#logistic-regression\n",
      "  n_iter_i = _check_optimize_result(\n",
      "/usr/local/lib/python3.9/site-packages/sklearn/linear_model/_logistic.py:763: ConvergenceWarning: lbfgs failed to converge (status=1):\n",
      "STOP: TOTAL NO. of ITERATIONS REACHED LIMIT.\n",
      "\n",
      "Increase the number of iterations (max_iter) or scale the data as shown in:\n",
      "    https://scikit-learn.org/stable/modules/preprocessing.html\n",
      "Please also refer to the documentation for alternative solver options:\n",
      "    https://scikit-learn.org/stable/modules/linear_model.html#logistic-regression\n",
      "  n_iter_i = _check_optimize_result(\n"
     ]
    }
   ],
   "source": [
    "from sklearn.linear_model import LogisticRegression\n",
    "from sklearn.metrics import log_loss\n",
    "from sklearn.metrics import accuracy_score\n",
    "for i in values:\n",
    "    lr = LogisticRegression(max_iter=i)\n",
    "    lr.fit(X_train,y_train)\n",
    "    # evaluate on the train dataset\n",
    "    train_pr = lr.predict(X_train) \n",
    "    train_accuracy = accuracy_score(y_train, train_pr)\n",
    "    train_acc.append(train_accuracy)\n",
    "    # evaluate on the test dataset\n",
    "    test_pr = lr.predict(X_test)\n",
    "    test_accuracy = accuracy_score(y_test, test_pr)\n",
    "    test_acc.append(test_accuracy)\n",
    "    #calculate loss   \n",
    "    train_l = log_loss(y_train, train_pr)\n",
    "    test_l = log_loss(y_test, test_pr)\n",
    "    train_loss.append(train_l)\n",
    "    test_loss.append(test_l)\n",
    "    \n"
   ]
  },
  {
   "cell_type": "code",
   "execution_count": null,
   "metadata": {},
   "outputs": [],
   "source": [
    "print(\"No Punc: Accuracy\\n\")\n",
    "for i in values:\n",
    "    print('Iteration: %d, train: %.3f, test: %.3f' % (i, train_acc[i-1], test_acc[i-1]))"
   ]
  },
  {
   "cell_type": "code",
   "execution_count": null,
   "metadata": {},
   "outputs": [],
   "source": [
    "print(\"No Punc: Loss\\n\")\n",
    "for i in values:\n",
    "    print('Iteration: %d, train: %.3f, test: %.3f' % (i, train_loss[i-1], test_loss[i-1]))"
   ]
  },
  {
   "cell_type": "code",
   "execution_count": null,
   "metadata": {},
   "outputs": [],
   "source": [
    "from matplotlib import pyplot\n",
    "# plot of train and test scores vs iteration\n",
    "pyplot.title(\"Accuracy\")\n",
    "pyplot.plot(values, train_acc, '-o', label='Train')\n",
    "pyplot.plot(values, test_acc, '-o', label='Test')\n",
    "pyplot.legend()\n",
    "pyplot.savefig(\"no_punc_accuracy.png\",dpi=1200)\n",
    "pyplot.show()"
   ]
  },
  {
   "cell_type": "code",
   "execution_count": null,
   "metadata": {},
   "outputs": [],
   "source": [
    "from matplotlib import pyplot\n",
    "# plot of train and test scores vs iteration\n",
    "pyplot.title(\"Loss\")\n",
    "pyplot.plot(values, train_loss, '-o', label='Train')\n",
    "pyplot.plot(values, test_loss, '-o', label='Test')\n",
    "pyplot.legend()\n",
    "pyplot.savefig(\"no_punc_loss.png\",dpi=1200)\n",
    "pyplot.show()"
   ]
  },
  {
   "cell_type": "code",
   "execution_count": null,
   "metadata": {},
   "outputs": [],
   "source": [
    "###ignore below here##"
   ]
  },
  {
   "cell_type": "code",
   "execution_count": null,
   "metadata": {},
   "outputs": [],
   "source": [
    "#from sklearn.metrics import accuracy_score, classification_report"
   ]
  },
  {
   "cell_type": "code",
   "execution_count": null,
   "metadata": {},
   "outputs": [],
   "source": [
    "#y_predict = lr.predict(X_test)\n",
    "##we will change this line when running to the test file after adjusting the max_iter"
   ]
  },
  {
   "cell_type": "code",
   "execution_count": null,
   "metadata": {},
   "outputs": [],
   "source": [
    "##print('Logistic Regression Train accuracy %s' % lr.score(X_train, y_train)) #Train accuracy\n",
    "#print('Logistic Regression Test accuracy %s' % accuracy_score(y_predict, y_test)) #Test=Validation accuracy"
   ]
  },
  {
   "cell_type": "code",
   "execution_count": null,
   "metadata": {},
   "outputs": [],
   "source": []
  }
 ],
 "metadata": {
  "kernelspec": {
   "display_name": "Python 3",
   "language": "python",
   "name": "python3"
  },
  "language_info": {
   "codemirror_mode": {
    "name": "ipython",
    "version": 3
   },
   "file_extension": ".py",
   "mimetype": "text/x-python",
   "name": "python",
   "nbconvert_exporter": "python",
   "pygments_lexer": "ipython3",
   "version": "3.9.2"
  },
  "metadata": {
   "interpreter": {
    "hash": "e534e48711db4d1e1c48977d0d14ff85b1f16d41bcc4fdfd88268a329b3c9d66"
   }
  }
 },
 "nbformat": 4,
 "nbformat_minor": 2
}
