{
 "metadata": {
  "language_info": {
   "codemirror_mode": {
    "name": "ipython",
    "version": 3
   },
   "file_extension": ".py",
   "mimetype": "text/x-python",
   "name": "python",
   "nbconvert_exporter": "python",
   "pygments_lexer": "ipython3",
   "version": "3.7.7"
  },
  "orig_nbformat": 2,
  "kernelspec": {
   "name": "python377jvsc74a57bd0e534e48711db4d1e1c48977d0d14ff85b1f16d41bcc4fdfd88268a329b3c9d66",
   "display_name": "Python 3.7.7 64-bit"
  },
  "metadata": {
   "interpreter": {
    "hash": "e534e48711db4d1e1c48977d0d14ff85b1f16d41bcc4fdfd88268a329b3c9d66"
   }
  }
 },
 "nbformat": 4,
 "nbformat_minor": 2,
 "cells": [
  {
   "cell_type": "code",
   "execution_count": 4,
   "metadata": {},
   "outputs": [],
   "source": [
    "import pandas as pd\n",
    "ptr = \"basic_dataset/original_train.csv\"\n",
    "pt = \"basic_dataset/test.csv\"\n",
    "train = pd.read_csv(ptr)\n",
    "test = pd.read_csv(pt)\n",
    "f = test"
   ]
  },
  {
   "cell_type": "code",
   "execution_count": 5,
   "metadata": {},
   "outputs": [],
   "source": [
    "text = []"
   ]
  },
  {
   "cell_type": "code",
   "execution_count": 6,
   "metadata": {
    "tags": []
   },
   "outputs": [],
   "source": [
    "import csv\n",
    "import re\n",
    "with open(pt) as csv_file:\n",
    "    csv_reader = csv.reader(csv_file, delimiter=',')\n",
    "    filename = \"cleaned_test.csv\"\n",
    "    with open(filename, 'w') as csvfile: \n",
    "        csvwriter = csv.writer(csvfile)\n",
    "        fields = [\"id\",\"text\",\"rating\"]\n",
    "        csvwriter.writerow(fields)   \n",
    "        for rev in f.text:\n",
    "            cleaned = \"\"\n",
    "            ##Clean the review\n",
    "            words = rev.split()\n",
    "            for word in words:\n",
    "                step_1 = re.compile(\"(?:[<\\/>])+([\\\"]*[a-zA-Z]+[\\']?[a-zA-Z]+[.!?\\\"]?)\")\n",
    "                step_2 = re.compile(\"([\\\"]*[a-zA-Z]+[\\']?[a-zA-Z]+[.!?\\\"]?)\")\n",
    "                cw = \"\"\n",
    "                if (step_1.match(word)):\n",
    "                    cl = step_1.match(word)\n",
    "                    cw = cl.group(1)\n",
    "                elif (step_2.match(word)):\n",
    "                    cl = step_2.match(word)\n",
    "                    cw = cl.group()\n",
    "                elif(word == \"a\"):\n",
    "                    cw = \"a\"\n",
    "                if (cw != \"br\"):\n",
    "                    cleaned = cleaned +\" \"+ cw\n",
    "        \n",
    "            cleaned = cleaned+\"\"\n",
    "            text.append(cleaned)\n",
    "        csvwriter.writerows(zip(f.id,text,f.rating))\n",
    "        "
   ]
  }
 ]
}